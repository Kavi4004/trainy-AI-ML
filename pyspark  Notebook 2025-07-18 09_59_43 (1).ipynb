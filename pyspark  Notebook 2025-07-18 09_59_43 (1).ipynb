{
 "cells": [
  {
   "cell_type": "code",
   "execution_count": 0,
   "metadata": {
    "application/vnd.databricks.v1+cell": {
     "cellMetadata": {
      "byteLimit": 2048000,
      "rowLimit": 10000
     },
     "inputWidgets": {},
     "nuid": "9f627fcd-501f-47dc-97aa-a912823237ba",
     "showTitle": false,
     "tableResultSettingsMap": {},
     "title": ""
    }
   },
   "outputs": [
    {
     "output_type": "stream",
     "name": "stdout",
     "output_type": "stream",
     "text": [
      "+---------+---+\n|     Name|Age|\n+---------+---+\n|    Divya| 16|\n|   kabiba| 18|\n|jsdharshu| 21|\n+---------+---+\n\n"
     ]
    }
   ],
   "source": [
    "from pyspark.sql import SparkSession\n",
    "spark=SparkSession.builder.appName(\"PySparkExample\").getOrCreate()\n",
    "data=[(\"Divya\" ,16), (\"kabiba\", 18), (\"jsdharshu\" , 21)]\n",
    "df=spark.createDataFrame(data, [\"Name\", \"Age\"])\n",
    "df .show()\n",
    "spark.stop()"
   ]
  },
  {
   "cell_type": "code",
   "execution_count": 0,
   "metadata": {
    "application/vnd.databricks.v1+cell": {
     "cellMetadata": {
      "byteLimit": 2048000,
      "rowLimit": 10000
     },
     "inputWidgets": {},
     "nuid": "62a6befb-2b34-4403-a322-b447433e7d90",
     "showTitle": false,
     "tableResultSettingsMap": {},
     "title": ""
    }
   },
   "outputs": [
    {
     "output_type": "stream",
     "name": "stdout",
     "output_type": "stream",
     "text": [
      "+---+-------+-----------+------+\n| ID|   Name| Department|Salary|\n+---+-------+-----------+------+\n|  1|  Alice|Engineering| 65000|\n|  2|    Bob|  Marketing| 58000|\n|  3|Charlie|      Sales| 52000|\n|  4|  David|Engineering| 72000|\n|  5|    Eve|      Sales| 54000|\n+---+-------+-----------+------+\n\nroot\n |-- ID: long (nullable = true)\n |-- Name: string (nullable = true)\n |-- Department: string (nullable = true)\n |-- Salary: long (nullable = true)\n\n+---+-----+-----------+------+\n| ID| Name| Department|Salary|\n+---+-----+-----------+------+\n|  1|Alice|Engineering| 65000|\n|  4|David|Engineering| 72000|\n+---+-----+-----------+------+\n\n+-----------+-----+\n| Department|count|\n+-----------+-----+\n|Engineering|    2|\n|  Marketing|    1|\n|      Sales|    2|\n+-----------+-----+\n\n+-----------+-----------+\n| Department|avg(Salary)|\n+-----------+-----------+\n|Engineering|    68500.0|\n|  Marketing|    58000.0|\n|      Sales|    53000.0|\n+-----------+-----------+\n\n"
     ]
    }
   ],
   "source": [
    "from pyspark.sql import SparkSession\n",
    "spark = SparkSession.builder.appName(\"StudentAssignment\").getOrCreate()\n",
    "# Sample employee data\n",
    "data = [\n",
    " (1, \"Alice\", \"Engineering\", 65000),\n",
    " (2, \"Bob\", \"Marketing\", 58000),\n",
    " (3, \"Charlie\", \"Sales\", 52000),\n",
    " (4, \"David\", \"Engineering\", 72000),\n",
    " (5, \"Eve\", \"Sales\", 54000)\n",
    "]\n",
    "schema = [\"ID\", \"Name\", \"Department\", \"Salary\"]\n",
    "df = spark.createDataFrame(data, schema=schema)\n",
    "df.show()\n",
    "#Show schema\n",
    "df.printSchema()\n",
    "# Filter: Salary > 60000\n",
    "df.filter(df[\"Salary\"] > 60000).show()\n",
    "# Group by Department\n",
    "df.groupBy(\"Department\").count().show()\n",
    "# Average Salary by Department\n",
    "df.groupBy(\"Department\").avg(\"Salary\").show()"
   ]
  },
  {
   "cell_type": "code",
   "execution_count": 0,
   "metadata": {
    "application/vnd.databricks.v1+cell": {
     "cellMetadata": {
      "byteLimit": 2048000,
      "rowLimit": 10000
     },
     "inputWidgets": {},
     "nuid": "7bcb841d-a392-457c-b71c-84f410116b7f",
     "showTitle": false,
     "tableResultSettingsMap": {},
     "title": ""
    }
   },
   "outputs": [
    {
     "output_type": "stream",
     "name": "stdout",
     "output_type": "stream",
     "text": [
      "+-----------+-----------+-----------+--------+------------+---------+----------+------+\n|        _c0|        _c1|        _c2|     _c3|         _c4|      _c5|       _c6|   _c7|\n+-----------+-----------+-----------+--------+------------+---------+----------+------+\n|EMPLOYEE_ID| FIRST_NAME|  LAST_NAME|   EMAIL|PHONE_NUMBER|HIRE_DATE|    JOB_ID|SALARY|\n|        198|     Donald|   OConnell|DOCONNEL|650.507.9833|21-Jun-07|  SH_CLERK|  2600|\n|        199|    Douglas|      Grant|  DGRANT|650.507.9844|13-Jan-08|  SH_CLERK|  2600|\n|        200|   Jennifer|     Whalen| JWHALEN|515.123.4444|17-Sep-03|   AD_ASST|  4400|\n|        201|    Michael|  Hartstein|MHARTSTE|515.123.5555|17-Feb-04|    MK_MAN| 13000|\n|        202|        Pat|        Fay|    PFAY|603.123.6666|17-Aug-05|    MK_REP|  6000|\n|        203|      Susan|     Mavris| SMAVRIS|515.123.7777|07-Jun-02|    HR_REP|  6500|\n|        204|    Hermann|       Baer|   HBAER|515.123.8888|07-Jun-02|    PR_REP| 10000|\n|        205|    Shelley|    Higgins|SHIGGINS|515.123.8080|07-Jun-02|    AC_MGR| 12008|\n|        206|    William|      Gietz|  WGIETZ|515.123.8181|07-Jun-02|AC_ACCOUNT|  8300|\n|        100|     Steven|       King|   SKING|515.123.4567|17-Jun-03|   AD_PRES| 24000|\n|        101|      Neena|    Kochhar|NKOCHHAR|515.123.4568|21-Sep-05|     AD_VP| 17000|\n|        102|        Lex|    De Haan| LDEHAAN|515.123.4569|13-Jan-01|     AD_VP| 17000|\n|        103|  Alexander|     Hunold| AHUNOLD|590.423.4567|03-Jan-06|   IT_PROG|  9000|\n|        104|      Bruce|      Ernst|  BERNST|590.423.4568|21-May-07|   IT_PROG|  6000|\n|        105|      David|     Austin| DAUSTIN|590.423.4569|25-Jun-05|   IT_PROG|  4800|\n|        106|      Valli|  Pataballa|VPATABAL|590.423.4560|05-Feb-06|   IT_PROG|  4800|\n|        107|      Diana|    Lorentz|DLORENTZ|590.423.5567|07-Feb-07|   IT_PROG|  4200|\n|        108|      Nancy|  Greenberg|NGREENBE|515.124.4569|17-Aug-02|    FI_MGR| 12008|\n|        109|     Daniel|     Faviet| DFAVIET|515.124.4169|16-Aug-02|FI_ACCOUNT|  9000|\n|        110|       John|       Chen|   JCHEN|515.124.4269|28-Sep-05|FI_ACCOUNT|  8200|\n|        111|     Ismael|    Sciarra|ISCIARRA|515.124.4369|30-Sep-05|FI_ACCOUNT|  7700|\n|        112|Jose Manuel|      Urman| JMURMAN|515.124.4469|07-Mar-06|FI_ACCOUNT|  7800|\n|        113|       Luis|       Popp|   LPOPP|515.124.4567|07-Dec-07|FI_ACCOUNT|  6900|\n|        114|        Den|   Raphaely|DRAPHEAL|515.127.4561|07-Dec-02|    PU_MAN| 11000|\n|        115|  Alexander|       Khoo|   AKHOO|515.127.4562|18-May-03|  PU_CLERK|  3100|\n|        116|     Shelli|      Baida|  SBAIDA|515.127.4563|24-Dec-05|  PU_CLERK|  2900|\n|        117|      Sigal|     Tobias| STOBIAS|515.127.4564|24-Jul-05|  PU_CLERK|  2800|\n|        118|        Guy|     Himuro| GHIMURO|515.127.4565|15-Nov-06|  PU_CLERK|  2600|\n|        119|      Karen| Colmenares|KCOLMENA|515.127.4566|10-Aug-07|  PU_CLERK|  2500|\n|        120|    Matthew|      Weiss|  MWEISS|650.123.1234|18-Jul-04|    ST_MAN|  8000|\n|        121|       Adam|      Fripp|  AFRIPP|650.123.2234|10-Apr-05|    ST_MAN|  8200|\n|        122|      Payam|   Kaufling|PKAUFLIN|650.123.3234|01-May-03|    ST_MAN|  7900|\n|        123|     Shanta|    Vollman|SVOLLMAN|650.123.4234|10-Oct-05|    ST_MAN|  6500|\n|        124|      Kevin|    Mourgos|KMOURGOS|650.123.5234|16-Nov-07|    ST_MAN|  5800|\n|        125|      Julia|      Nayer|  JNAYER|650.124.1214|16-Jul-05|  ST_CLERK|  3200|\n|        126|      Irene|Mikkilineni|IMIKKILI|650.124.1224|28-Sep-06|  ST_CLERK|  2700|\n|        127|      James|     Landry| JLANDRY|650.124.1334|14-Jan-07|  ST_CLERK|  2400|\n|        128|     Steven|     Markle| SMARKLE|650.124.1434|08-Mar-08|  ST_CLERK|  2200|\n|        129|      Laura|     Bissot| LBISSOT|650.124.5234|20-Aug-05|  ST_CLERK|  3300|\n|        130|      Mozhe|   Atkinson|MATKINSO|650.124.6234|30-Oct-05|  ST_CLERK|  2800|\n|        131|      James|     Marlow| JAMRLOW|650.124.7234|16-Feb-05|  ST_CLERK|  2500|\n|        132|         TJ|      Olson| TJOLSON|650.124.8234|10-Apr-07|  ST_CLERK|  2100|\n|        133|      Jason|     Mallin| JMALLIN|650.127.1934|14-Jun-04|  ST_CLERK|  3300|\n|        134|    Michael|     Rogers| MROGERS|650.127.1834|26-Aug-06|  ST_CLERK|  2900|\n|        135|         Ki|        Gee|    KGEE|650.127.1734|12-Dec-07|  ST_CLERK|  2400|\n|        136|      Hazel| Philtanker|HPHILTAN|650.127.1634|06-Feb-08|  ST_CLERK|  2200|\n|        137|     Renske|     Ladwig| RLADWIG|650.121.1234|14-Jul-03|  ST_CLERK|  3600|\n|        138|    Stephen|     Stiles| SSTILES|650.121.2034|26-Oct-05|  ST_CLERK|  3200|\n|        139|       John|        Seo|    JSEO|650.121.2019|12-Feb-06|  ST_CLERK|  2700|\n|        140|     Joshua|      Patel|  JPATEL|650.121.1834|06-Apr-06|  ST_CLERK|  2500|\n+-----------+-----------+-----------+--------+------------+---------+----------+------+\n\nroot\n |-- _c0: string (nullable = true)\n |-- _c1: string (nullable = true)\n |-- _c2: string (nullable = true)\n |-- _c3: string (nullable = true)\n |-- _c4: string (nullable = true)\n |-- _c5: string (nullable = true)\n |-- _c6: string (nullable = true)\n |-- _c7: string (nullable = true)\n\n"
     ]
    }
   ],
   "source": [
    "from pyspark.sql import SparkSession \n",
    "spark = SparkSession.builder.appName(\"Spark DataFrames\").getOrCreate() \n",
    "df = spark.read.csv(\"/Volumes/kavi/default/csv_vol/employees1.csv\") \n",
    "df.show(300) \n",
    "df.printSchema() "
   ]
  },
  {
   "cell_type": "code",
   "execution_count": 0,
   "metadata": {
    "application/vnd.databricks.v1+cell": {
     "cellMetadata": {
      "byteLimit": 2048000,
      "rowLimit": 10000
     },
     "inputWidgets": {},
     "nuid": "b7b71034-a285-4cbf-b816-bbf489d59c39",
     "showTitle": false,
     "tableResultSettingsMap": {},
     "title": ""
    }
   },
   "outputs": [
    {
     "output_type": "stream",
     "name": "stdout",
     "output_type": "stream",
     "text": [
      "+------+----------+-------------+------+\n|EMP_ID|FIRST_NAME|   DEPARTMENT|SALARY|\n+------+----------+-------------+------+\n|     1|     SUBAM|  ENGINEERING|200000|\n|     2|       JAI|        SALES|300000|\n|     3|    DINESH|    MARKETING|400000|\n|     4|   DIVAGAR|   ELECTRONIC|100000|\n|     5|     VIDYA|COMMUNICATION|510000|\n|     6|    SWETHA|         ARTS|320000|\n|     7|     DHANU|      MEDICAL|430000|\n|     8|     TAMIL|       DOCTOR|760000|\n|     9|    YOGESH|        CIVIL|320000|\n|    10|   PRAVEEN|         MECH|430000|\n+------+----------+-------------+------+\n\nroot\n |-- EMP_ID: integer (nullable = true)\n |-- FIRST_NAME: string (nullable = true)\n |-- DEPARTMENT: string (nullable = true)\n |-- SALARY: integer (nullable = true)\n\n+-------------+-----------+\n|   DEPARTMENT|avg(SALARY)|\n+-------------+-----------+\n|   ELECTRONIC|   100000.0|\n|        CIVIL|   320000.0|\n|         MECH|   430000.0|\n|COMMUNICATION|   510000.0|\n|    MARKETING|   400000.0|\n|         ARTS|   320000.0|\n|       DOCTOR|   760000.0|\n|  ENGINEERING|   200000.0|\n|        SALES|   300000.0|\n|      MEDICAL|   430000.0|\n+-------------+-----------+\n\n+------+----------+-------------+------+-------+\n|EMP_ID|FIRST_NAME|   DEPARTMENT|SALARY|  Bonus|\n+------+----------+-------------+------+-------+\n|     1|     SUBAM|  ENGINEERING|200000|20000.0|\n|     2|       JAI|        SALES|300000|30000.0|\n|     3|    DINESH|    MARKETING|400000|40000.0|\n|     4|   DIVAGAR|   ELECTRONIC|100000|10000.0|\n|     5|     VIDYA|COMMUNICATION|510000|51000.0|\n|     6|    SWETHA|         ARTS|320000|32000.0|\n|     7|     DHANU|      MEDICAL|430000|43000.0|\n|     8|     TAMIL|       DOCTOR|760000|76000.0|\n|     9|    YOGESH|        CIVIL|320000|32000.0|\n|    10|   PRAVEEN|         MECH|430000|43000.0|\n+------+----------+-------------+------+-------+\n\n+------+----------+-------------+------+-------+\n|EMP_ID|FIRST_NAME|   DEPARTMENT|SALARY|  Bonus|\n+------+----------+-------------+------+-------+\n|     1|     SUBAM|  ENGINEERING|200000|20000.0|\n|     2|       JAI|        SALES|300000|30000.0|\n|     3|    DINESH|    MARKETING|400000|40000.0|\n|     4|   DIVAGAR|   ELECTRONIC|100000|10000.0|\n|     5|     VIDYA|COMMUNICATION|510000|51000.0|\n|     6|    SWETHA|         ARTS|320000|32000.0|\n|     7|     DHANU|      MEDICAL|430000|43000.0|\n|     8|     TAMIL|       DOCTOR|760000|76000.0|\n|     9|    YOGESH|        CIVIL|320000|32000.0|\n|    10|   PRAVEEN|         MECH|430000|43000.0|\n+------+----------+-------------+------+-------+\n\n+-------------+-----------+\n|   DEPARTMENT|avg(SALARY)|\n+-------------+-----------+\n|   ELECTRONIC|   100000.0|\n|        CIVIL|   320000.0|\n|         MECH|   430000.0|\n|COMMUNICATION|   510000.0|\n|    MARKETING|   400000.0|\n|         ARTS|   320000.0|\n|       DOCTOR|   760000.0|\n|  ENGINEERING|   200000.0|\n|        SALES|   300000.0|\n|      MEDICAL|   430000.0|\n+-------------+-----------+\n\n"
     ]
    }
   ],
   "source": [
    "from pyspark.sql import SparkSession\n",
    "spark = SparkSession.builder.appName(\"Spark DataFrames\").getOrCreate()\n",
    "df = spark.read.csv(\"/Volumes/kavi/default/csv_vol/Book2.csv\",header=True,inferSchema=True)\n",
    "df.show()\n",
    "df.printSchema()\n",
    "df.groupBy(\"DEPARTMENT\").avg(\"SALARY\").show()\n",
    "df = df.withColumn(\"Bonus\", df[\"SALARY\"] * 0.10)\n",
    "df.show()\n",
    "df.filter(df.SALARY > 70000).show()\n",
    "df.groupBy(\"DEPARTMENT\").avg(\"SALARY\").show()"
   ]
  }
 ],
 "metadata": {
  "application/vnd.databricks.v1+notebook": {
   "computePreferences": null,
   "dashboards": [],
   "environmentMetadata": {
    "base_environment": "",
    "environment_version": "2"
   },
   "inputWidgetPreferences": null,
   "language": "python",
   "notebookMetadata": {
    "pythonIndentUnit": 4
   },
   "notebookName": "pyspark  Notebook 2025-07-18 09:59:43",
   "widgets": {}
  },
  "language_info": {
   "name": "python"
  }
 },
 "nbformat": 4,
 "nbformat_minor": 0
}