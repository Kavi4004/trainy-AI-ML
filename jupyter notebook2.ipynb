{
 "cells": [
  {
   "metadata": {
    "ExecuteTime": {
     "end_time": "2025-07-16T04:02:50.810019Z",
     "start_time": "2025-07-16T04:02:50.804082Z"
    }
   },
   "cell_type": "code",
   "source": [
    "import numpy as np\n",
    "import pandas as pd"
   ],
   "id": "fe9ce643dc84dc7",
   "outputs": [],
   "execution_count": 2
  },
  {
   "metadata": {
    "ExecuteTime": {
     "end_time": "2025-07-16T04:10:44.152220Z",
     "start_time": "2025-07-16T04:10:44.146574Z"
    }
   },
   "cell_type": "code",
   "source": "np.random.seed(42)",
   "id": "249fc9eb90c4ea28",
   "outputs": [],
   "execution_count": 11
  },
  {
   "metadata": {
    "ExecuteTime": {
     "end_time": "2025-07-16T04:14:58.455618Z",
     "start_time": "2025-07-16T04:14:58.437958Z"
    }
   },
   "cell_type": "code",
   "source": [
    "employee_ids=[f\"EMP_{i:03d}\" for i in range(1,31)]\n",
    "dates=pd.date_range(\"2025-07-01\",periods=30,freq=\"D\")\n",
    "employee_ids"
   ],
   "id": "5284dad8f6147eea",
   "outputs": [
    {
     "data": {
      "text/plain": [
       "['EMP_001',\n",
       " 'EMP_002',\n",
       " 'EMP_003',\n",
       " 'EMP_004',\n",
       " 'EMP_005',\n",
       " 'EMP_006',\n",
       " 'EMP_007',\n",
       " 'EMP_008',\n",
       " 'EMP_009',\n",
       " 'EMP_010',\n",
       " 'EMP_011',\n",
       " 'EMP_012',\n",
       " 'EMP_013',\n",
       " 'EMP_014',\n",
       " 'EMP_015',\n",
       " 'EMP_016',\n",
       " 'EMP_017',\n",
       " 'EMP_018',\n",
       " 'EMP_019',\n",
       " 'EMP_020',\n",
       " 'EMP_021',\n",
       " 'EMP_022',\n",
       " 'EMP_023',\n",
       " 'EMP_024',\n",
       " 'EMP_025',\n",
       " 'EMP_026',\n",
       " 'EMP_027',\n",
       " 'EMP_028',\n",
       " 'EMP_029',\n",
       " 'EMP_030']"
      ]
     },
     "execution_count": 12,
     "metadata": {},
     "output_type": "execute_result"
    }
   ],
   "execution_count": 12
  },
  {
   "metadata": {},
   "cell_type": "code",
   "outputs": [],
   "execution_count": null,
   "source": "",
   "id": "dcd9226cb8523c45"
  },
  {
   "metadata": {
    "ExecuteTime": {
     "end_time": "2025-07-16T04:20:43.769023Z",
     "start_time": "2025-07-16T04:20:43.751957Z"
    }
   },
   "cell_type": "code",
   "source": [
    "data={\n",
    "    \"Date\":np.tile(dates,len(employee_ids)),\n",
    "    \"Employee_ID\":np.repeat(employee_ids,len(dates)),\n",
    "    \"Working_Hours\":np.random.normal(4,10,size=len(dates)*len(employee_ids)).round(2)\n",
    "}"
   ],
   "id": "57baa7d4d3479b5b",
   "outputs": [],
   "execution_count": 13
  },
  {
   "metadata": {
    "ExecuteTime": {
     "end_time": "2025-07-16T04:22:36.238799Z",
     "start_time": "2025-07-16T04:22:36.219447Z"
    }
   },
   "cell_type": "code",
   "source": "df=pd.DataFrame(data)",
   "id": "1bec563ccf64cd77",
   "outputs": [],
   "execution_count": 16
  },
  {
   "metadata": {
    "ExecuteTime": {
     "end_time": "2025-07-16T04:25:16.506283Z",
     "start_time": "2025-07-16T04:25:16.485612Z"
    }
   },
   "cell_type": "code",
   "source": "df.to_csv(\"employee_working_hours.csv\",index=False)",
   "id": "97a8067114cd19b6",
   "outputs": [],
   "execution_count": 18
  },
  {
   "metadata": {
    "ExecuteTime": {
     "end_time": "2025-07-16T04:26:07.557523Z",
     "start_time": "2025-07-16T04:26:07.534038Z"
    }
   },
   "cell_type": "code",
   "source": "df_csv=pd.read_csv(\"employee_working_hours.csv\")",
   "id": "a77b8fe41886453e",
   "outputs": [],
   "execution_count": 19
  },
  {
   "metadata": {
    "ExecuteTime": {
     "end_time": "2025-07-16T04:29:33.887804Z",
     "start_time": "2025-07-16T04:29:33.865640Z"
    }
   },
   "cell_type": "code",
   "source": [
    "print(df_csv.head())\n",
    "print(df_csv.describe())\n",
    "print(df_csv[\"Employee_ID\"].unique())"
   ],
   "id": "1579367e45d3f1cd",
   "outputs": [
    {
     "name": "stdout",
     "output_type": "stream",
     "text": [
      "         Date Employee_ID  Working_Hours\n",
      "0  2025-07-01     EMP_001           8.97\n",
      "1  2025-07-02     EMP_001           2.62\n",
      "2  2025-07-03     EMP_001          10.48\n",
      "3  2025-07-04     EMP_001          19.23\n",
      "4  2025-07-05     EMP_001           1.66\n",
      "       Working_Hours\n",
      "count     900.000000\n",
      "mean        4.183811\n",
      "std         9.809092\n",
      "min       -28.410000\n",
      "25%        -2.512500\n",
      "50%         4.180000\n",
      "75%        10.495000\n",
      "max        42.530000\n",
      "['EMP_001' 'EMP_002' 'EMP_003' 'EMP_004' 'EMP_005' 'EMP_006' 'EMP_007'\n",
      " 'EMP_008' 'EMP_009' 'EMP_010' 'EMP_011' 'EMP_012' 'EMP_013' 'EMP_014'\n",
      " 'EMP_015' 'EMP_016' 'EMP_017' 'EMP_018' 'EMP_019' 'EMP_020' 'EMP_021'\n",
      " 'EMP_022' 'EMP_023' 'EMP_024' 'EMP_025' 'EMP_026' 'EMP_027' 'EMP_028'\n",
      " 'EMP_029' 'EMP_030']\n"
     ]
    }
   ],
   "execution_count": 22
  },
  {
   "metadata": {
    "ExecuteTime": {
     "end_time": "2025-07-16T04:33:02.781862Z",
     "start_time": "2025-07-16T04:33:02.760408Z"
    }
   },
   "cell_type": "code",
   "source": [
    "total_hours =df_csv.groupby(\"Employee_ID\")[\"Working_Hours\"].sum().sort_values(ascending=False)\n",
    "total_hours"
   ],
   "id": "421713be4385ad3a",
   "outputs": [
    {
     "data": {
      "text/plain": [
       "Employee_ID\n",
       "EMP_030    245.24\n",
       "EMP_021    219.41\n",
       "EMP_011    204.55\n",
       "EMP_006    203.63\n",
       "EMP_013    188.45\n",
       "EMP_029    183.81\n",
       "EMP_026    177.58\n",
       "EMP_028    165.44\n",
       "EMP_010    152.15\n",
       "EMP_020    146.33\n",
       "EMP_007    139.66\n",
       "EMP_008    134.41\n",
       "EMP_016    133.97\n",
       "EMP_014    128.64\n",
       "EMP_027    127.59\n",
       "EMP_003    123.87\n",
       "EMP_004    113.92\n",
       "EMP_024    108.58\n",
       "EMP_015    102.81\n",
       "EMP_019     93.15\n",
       "EMP_005     91.55\n",
       "EMP_002     83.64\n",
       "EMP_023     80.96\n",
       "EMP_022     79.38\n",
       "EMP_009     76.96\n",
       "EMP_001     63.58\n",
       "EMP_017     60.62\n",
       "EMP_025     58.56\n",
       "EMP_012     58.06\n",
       "EMP_018     18.93\n",
       "Name: Working_Hours, dtype: float64"
      ]
     },
     "execution_count": 25,
     "metadata": {},
     "output_type": "execute_result"
    }
   ],
   "execution_count": 25
  },
  {
   "metadata": {
    "ExecuteTime": {
     "end_time": "2025-07-16T04:36:11.345371Z",
     "start_time": "2025-07-16T04:36:11.326204Z"
    }
   },
   "cell_type": "code",
   "source": "avg_daily=df_csv.groupby(\"Employee_ID\")[\"Working_Hours\"].mean()",
   "id": "246971776e740b04",
   "outputs": [],
   "execution_count": 26
  },
  {
   "metadata": {
    "ExecuteTime": {
     "end_time": "2025-07-16T04:40:07.908986Z",
     "start_time": "2025-07-16T04:40:07.892804Z"
    }
   },
   "cell_type": "code",
   "source": [
    "threshold_low=5\n",
    "threshold_high=9\n",
    "df_csv[\"Low_Hour_Flag\"]=df_csv[\"Working_Hours\"]>=threshold_low\n",
    "df_csv[\"High_Hour_Flag\"]=df_csv[\"Working_Hours\"]<=threshold_high\n",
    "print(df_csv[df_csv[\"Low_Hour_Flag\"]|df_csv[\"High_Hour_Flag\"]].head())"
   ],
   "id": "2a1eef6d32c2402d",
   "outputs": [
    {
     "name": "stdout",
     "output_type": "stream",
     "text": [
      "         Date Employee_ID  Working_Hours  Low_Hour_Flag  High_Hour_Flag\n",
      "0  2025-07-01     EMP_001           8.97           True            True\n",
      "1  2025-07-02     EMP_001           2.62          False            True\n",
      "2  2025-07-03     EMP_001          10.48           True           False\n",
      "3  2025-07-04     EMP_001          19.23           True           False\n",
      "4  2025-07-05     EMP_001           1.66          False            True\n"
     ]
    }
   ],
   "execution_count": 27
  },
  {
   "metadata": {
    "ExecuteTime": {
     "end_time": "2025-07-16T04:54:10.828298Z",
     "start_time": "2025-07-16T04:54:10.404372Z"
    }
   },
   "cell_type": "code",
   "source": [
    "import matplotlib.pyplot as plt\n",
    "import seaborn as sns\n",
    "#Bar chart of top 10 employees with highest, total hours\n",
    "top10 = total_hours.head(10)\n",
    "plt.figure(figsize=(10,5))\n",
    "sns.barplot(x=top10.index, y=top10.values)\n",
    "plt.xticks(rotation=45)\n",
    "plt.title(\"Top 10 Employees by Total working Hours\")\n",
    "plt.ylabel(\"Hours\")\n",
    "plt.tight_layout()\n",
    "plt.show()"
   ],
   "id": "806fd5ed192367d4",
   "outputs": [
    {
     "data": {
      "text/plain": [
       "<Figure size 1000x500 with 1 Axes>"
      ],
      "image/png": "[encoded data removed]"
     },
     "metadata": {},
     "output_type": "display_data"
    }
   ],
   "execution_count": 31
  }
 ],
 "metadata": {
  "kernelspec": {
   "display_name": "Python 3",
   "language": "python",
   "name": "python3"
  },
  "language_info": {
   "codemirror_mode": {
    "name": "ipython",
    "version": 2
   },
   "file_extension": ".py",
   "mimetype": "text/x-python",
   "name": "python",
   "nbconvert_exporter": "python",
   "pygments_lexer": "ipython2",
   "version": "2.7.6"
  }
 },
 "nbformat": 4,
 "nbformat_minor": 5
}
